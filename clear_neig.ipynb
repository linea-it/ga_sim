{
 "cells": [
  {
   "cell_type": "code",
   "execution_count": 1,
   "id": "3569f49f-f3a1-4009-b516-398ada3ac7c9",
   "metadata": {},
   "outputs": [
    {
     "data": {
      "text/plain": [
       "<parsl.dataflow.dflow.DataFlowKernel at 0x7f69c8072ca0>"
      ]
     },
     "execution_count": 1,
     "metadata": {},
     "output_type": "execute_result"
    }
   ],
   "source": [
    "import numpy as np\n",
    "import astropy\n",
    "import astropy.io.fits as fits\n",
    "from astropy.io.fits import getdata\n",
    "from astropy.table import Table\n",
    "import healpy as hp\n",
    "from astropy.coordinates import SkyCoord\n",
    "from astropy import units as u\n",
    "import os\n",
    "import parsl\n",
    "from parsl import python_app, bash_app\n",
    "import matplotlib.pyplot as plt\n",
    "\n",
    "parsl.clear()\n",
    "parsl.load()"
   ]
  },
  {
   "cell_type": "code",
   "execution_count": 2,
   "id": "329ba3aa-b40b-4043-8dd1-bb14d0eb6676",
   "metadata": {},
   "outputs": [],
   "source": [
    "def join_cat(data, label_coluns, t_format, outfile):\n",
    "\n",
    "    col0 = fits.Column(name=label_coluns[0], format=t_format[0], array=data[:,0])\n",
    "    col1 = fits.Column(name=label_coluns[1], format=t_format[1], array=data[:,1])\n",
    "    col2 = fits.Column(name=label_coluns[2], format=t_format[2], array=data[:,2])\n",
    "    col3 = fits.Column(name=label_coluns[3], format=t_format[3], array=data[:,3])\n",
    "    col4 = fits.Column(name=label_coluns[4], format=t_format[4], array=data[:,4])\n",
    "    col5 = fits.Column(name=label_coluns[5], format=t_format[5], array=data[:,5])\n",
    "    col6 = fits.Column(name=label_coluns[6], format=t_format[6], array=data[:,6])\n",
    "    col7 = fits.Column(name=label_coluns[7], format=t_format[7], array=data[:,7])\n",
    "    cols = fits.ColDefs([col0, col1, col2, col3, col4, col5, col6, col7])\n",
    "    tbhdu = fits.BinTableHDU.from_columns(cols)\n",
    "    tbhdu.writeto(outfile, overwrite=True)\n",
    "    \n",
    "\n",
    "@python_app\n",
    "def clean_cat(input_cat, max_sep_arcsec, label_columns, in_path):\n",
    "    ra1, dec1 = np.loadtxt(str(input_cat) + '.dat', usecols=(1,2), unpack=True)\n",
    "    data = np.loadtxt(input_cat, unpack=True)\n",
    "    cat1 = SkyCoord(ra=ra1*u.degree, dec=dec1*u.degree)  \n",
    "    max_sep = 1.0 * u.arcsec\n",
    "    idx, d2d, d3d = cat1.match_to_catalog_3d(cat1)\n",
    "    d2d_s = np.sort(d2d)\n",
    "    idx = idx[d2d_s[1] > max_sep]\n",
    "    f = open(in_path + '/' + str(input_cat) + '_clean.dat', \"w\")\n",
    "    for i in idx:\n",
    "        print(' '.join([str(data[i][j]) for j in range(len(label_columns))]), file=f)\n",
    "    f.close()\n",
    "\n",
    "@python_app\n",
    "def split_files(HPX_un, data_sort, label_columns, HPX_sort, in_path):\n",
    "    for i, j in enumerate(HPX_un):\n",
    "        print(float(i) / len(HPX_un))\n",
    "        for ii, jj in enumerate(HPX_sort):\n",
    "            if jj == j:\n",
    "                f = open(in_path + '/' +  str(j) + '.dat', \"a\")\n",
    "                print(' '.join([str(data_sort[ii][jjj]) for jjj in range(len(label_columns))]), file=f)\n",
    "                f.close()\n",
    "    return HPX_un\n",
    "\n",
    "def read_input_cat(file_name, ra_str, dec_str, nside):\n",
    "\n",
    "    data = getdata(file_name)\n",
    "    t = Table.read(file_name)\n",
    "    label_columns = t.colnames\n",
    "    t_format = []\n",
    "    for i in label_columns:\n",
    "        t_format.append(t[i].info.dtype)\n",
    "    HPX = hp.ang2pix(nside, data[ra_str], data[dec_str], nest=True, lonlat=True)\n",
    "    \n",
    "    HPX_idx_sort = np.argsort(HPX)\n",
    "    \n",
    "    HPX_sort = [HPX[i] for i in HPX_idx_sort]\n",
    "    data_sort = data[HPX_idx_sort]\n",
    "    \n",
    "    a, HPX_idx = np.unique(HPX_sort, return_inverse=True)\n",
    "    \n",
    "    HPX_un, HPX_counts = np.unique(HPX_sort, return_counts=True) # original order not preserved!\n",
    "    \n",
    "    return HPX_un, data_sort, label_columns, HPX_sort, t_format, HPX_idx, HPX_counts"
   ]
  },
  {
   "cell_type": "code",
   "execution_count": null,
   "id": "3d89c0fe-e61a-477a-a671-1676f1361cd7",
   "metadata": {},
   "outputs": [],
   "source": [
    "HPX_un, data_sort, label_columns, HPX_sort, t_format, HPX_idx, HPX_counts = \\\n",
    "read_input_cat('results/des_mockcat_for_detection.fits', 'ra', 'dec', 2**17)\n",
    "\n",
    "HPX_single_star_pix = [j for i,j in enumerate(HPX_un) if HPX_counts[i] < 2]\n",
    "\n",
    "data_clean = np.array([data_sort[:][i] for i,j in enumerate(HPX_idx) if HPX_un[j] in HPX_single_star_pix])\n",
    "print(data_clean, len(data_sort['ra']))\n",
    "\n",
    "#print(data_clean[0:20,1])\n",
    "plt.scatter(data_sort['ra'], data_sort['dec'], c='b', s=10)\n",
    "plt.scatter(data_clean[0:10], data_clean[0:10], c='r', s=3)\n",
    "plt.show()"
   ]
  },
  {
   "cell_type": "code",
   "execution_count": null,
   "id": "c792bc8b-4517-4834-9338-7e05ec592bae",
   "metadata": {},
   "outputs": [],
   "source": [
    "join_cat(data_clean, label_columns, t_format, 'cat_clean.fits')"
   ]
  },
  {
   "cell_type": "code",
   "execution_count": null,
   "id": "51d8c309-0fd3-4a20-ae8c-30d46d9840aa",
   "metadata": {},
   "outputs": [],
   "source": [
    "#TODO: make a few plots showing the results"
   ]
  }
 ],
 "metadata": {
  "kernelspec": {
   "display_name": "ga_sim",
   "language": "python",
   "name": "ga_sim"
  },
  "language_info": {
   "codemirror_mode": {
    "name": "ipython",
    "version": 3
   },
   "file_extension": ".py",
   "mimetype": "text/x-python",
   "name": "python",
   "nbconvert_exporter": "python",
   "pygments_lexer": "ipython3",
   "version": "3.8.13"
  }
 },
 "nbformat": 4,
 "nbformat_minor": 5
}
