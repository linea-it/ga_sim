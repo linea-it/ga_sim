{
 "cells": [
  {
   "cell_type": "markdown",
   "metadata": {
    "slideshow": {
     "slide_type": "fragment"
    }
   },
   "source": [
    "## Gawa Simulations"
   ]
  },
  {
   "cell_type": "markdown",
   "metadata": {},
   "source": [
    "This jn is intended to create simulations of dwarf galaxies and globular clusters using as field stars the catalog of DES. These simulations will be later copied to gawa jn, a pipeline to detect stellar systems with field's stars. In principle this pipeline read a table in data base with g and r magnitudes, subtract the extinction in each band, and randomize the positions in RA and DEC in order to avoid stellar systems in the FoV. The star clusters are inserted later, centered in each HP pixel with specific nside.\n",
    "\n",
    "To complete all the steps you just have to run all the cells below in sequence."
   ]
  },
  {
   "cell_type": "markdown",
   "metadata": {},
   "source": [
    "Firstly, install the packages not available in the image via terminal. Restart the kernel and so you can run the cell bellow."
   ]
  },
  {
   "cell_type": "code",
   "execution_count": 1,
   "metadata": {},
   "outputs": [],
   "source": [
    "# Refactor Imports\n",
    "import numpy as np\n",
    "from astropy.coordinates import SkyCoord\n",
    "from astropy import units as u\n",
    "import healpy as hp\n",
    "import astropy.io.fits as fits\n",
    "from gawa_simulations import (\n",
    "    get_av,\n",
    "    make_footprint,\n",
    "    faker,\n",
    "    join_cat,\n",
    "    split_output_hpx,\n",
    "    write_sim_clus_features,\n",
    ")\n",
    "\n"
   ]
  },
  {
   "cell_type": "markdown",
   "metadata": {},
   "source": [
    "Below are the items of the configuration for field stars and simulations. A small description follows as a comment."
   ]
  },
  {
   "cell_type": "code",
   "execution_count": 2,
   "metadata": {},
   "outputs": [],
   "source": [
    "# Main settings:\n",
    "nside_ini = 64  # the nside in which pixel star clusters will be inserted in the center\n",
    "nside_ftp = 4096  # nside of the footprint map\n",
    "nside3 = 2 ** 18  # pixelization of the star's position\n",
    "ra_min, ra_max = 45, 55  # 5., 85. # limits in ra of the simulated map\n",
    "dec_min, dec_max = -30, -20  # -60., -20. # limits in dec of the simulated map\n",
    "mmin, mmax, cmin, cmax = 17.00, 24.00, -0.4, 1.6  # magnitude and color limits of stars\n",
    "ell_min, ell_max = 0.00, 0.20  # limits in ellipticity of star clusters simulated\n",
    "pa_min, pa_max = 0., 180.  # limits in position angle\n",
    "log10_mass_min, log10_mass_max = 3.00, 3.10  # limits for the visible mass of the clusters,\n",
    "\n",
    "# avoiding simulate many stars unseen in the catalog given the limiting magnitude\n",
    "mM_min, mM_max = 20.001, 20.002 # limits in modulus distance\n",
    "log10_rexp_min, log10_rexp_max = 0.60, 1.00 # limits in exponential radius\n",
    "survey = 'des' # survey name\n",
    "frac_bin = 0.5 # fraction of binaries (amount of stars in binaries = Nbinaries / Ntotal)\n",
    "IMF_author = 'Kroupa' # selection of initial mass function\n",
    "border_extract = 1. # remove star clusters in the edge of the map, in degrees\n"
   ]
  },
  {
   "cell_type": "code",
   "execution_count": 3,
   "metadata": {},
   "outputs": [],
   "source": [
    "# TODO: Identificar quando esses arquivos são utilizados e só abrir na hora de usar\n",
    "file_iso = 'data/iso_input2.dat' # file with the isochrone\n",
    "iso_info = np.loadtxt(file_iso, usecols=(1, 2), unpack=True) \n",
    "# just to print the metalicity and age of the input file:\n",
    "FeH_iso = iso_info[0][0]\n",
    "logAge_iso = iso_info[1][0]\n",
    "# # hdu_ngp = fits.open(\"/archive/external_catalogs/SDSS3/schlegel/schlegel/SFD_dust_4096_ngp.fits\", memmap=True)\n",
    "# hdu_ngp = fits.open(\"sample_data/SFD_dust_4096_ngp.fits\", memmap=True)\n",
    "# ngp = hdu_ngp[0].data\n",
    "# # hdu_sgp = fits.open(\"/archive/external_catalogs/SDSS3/schlegel/schlegel/SFD_dust_4096_sgp.fits\", memmap=True)\n",
    "# hdu_sgp = fits.open(\"sample_data/SFD_dust_4096_sgp.fits\", memmap=True)\n",
    "# sgp = hdu_sgp[0].data"
   ]
  },
  {
   "cell_type": "markdown",
   "metadata": {},
   "source": [
    "Now, printing the age and metalicity of the model:"
   ]
  },
  {
   "cell_type": "code",
   "execution_count": 4,
   "metadata": {},
   "outputs": [
    {
     "name": "stdout",
     "output_type": "stream",
     "text": [
      "[M/H]=-2.00, Age=13.49 Gyr\n"
     ]
    }
   ],
   "source": [
    "print('[M/H]={:.2f}, Age={:.2f} Gyr'.format(FeH_iso, 10**(logAge_iso-9)))"
   ]
  },
  {
   "cell_type": "code",
   "execution_count": 5,
   "metadata": {},
   "outputs": [
    {
     "name": "stdout",
     "output_type": "stream",
     "text": [
      "442147\n"
     ]
    }
   ],
   "source": [
    "hpx_ftp = make_footprint(ra_min, ra_max, dec_min, dec_max, nside_ftp)\n",
    "print(len(hpx_ftp))"
   ]
  },
  {
   "cell_type": "markdown",
   "metadata": {},
   "source": [
    "Reading the catalog and writing as a fits file (to avoid read from the DB many times in the case the same catalog will be used multiple times)."
   ]
  },
  {
   "cell_type": "code",
   "execution_count": 6,
   "metadata": {},
   "outputs": [
    {
     "name": "stdout",
     "output_type": "stream",
     "text": [
      "500\n"
     ]
    }
   ],
   "source": [
    "# Lendo catalogo 'vac_ga_y6.catalog_6048'\n",
    "# Usando um limit apenas para os testes executarem mais rápidos.\n",
    "#  MAX_ROWS = None para ler o arquivo inteiro.\n",
    "MAX_ROWS = 500\n",
    "with open(\"sample_data/catalog_6048.csv\") as fp:\n",
    "    # 'ra', 'dec', 'mag_g', 'magerr_g', 'mag_r', 'magerr_r'\n",
    "    RA, DEC, MAG_G, MAGERR_G, MAG_R, MAGERR_R = np.genfromtxt(\n",
    "        fp, dtype=float, delimiter=\";\", names=True, unpack=True, \n",
    "        max_rows=MAX_ROWS  \n",
    "    )\n",
    "print(len(RA))\n"
   ]
  },
  {
   "cell_type": "markdown",
   "metadata": {},
   "source": [
    "The cells below reads the position, calculates the extinction using the previous function and <br>\n",
    "correct the aparent magnitude (top of the Galaxy), filter the stars for magnitude and color ranges, <br> \n",
    "and writes a file with the original position of the stars and corrected magnitudes."
   ]
  },
  {
   "cell_type": "code",
   "execution_count": 7,
   "metadata": {},
   "outputs": [],
   "source": [
    "# Le o arquivo NGP\n",
    "hdu_ngp = fits.open(\"sample_data/SFD_dust_4096_ngp.fits\", memmap=True)\n",
    "ngp = hdu_ngp[0].data\n",
    "\n",
    "# Le o arquivo SGP\n",
    "hdu_sgp = fits.open(\"sample_data/SFD_dust_4096_sgp.fits\", memmap=True)\n",
    "sgp = hdu_sgp[0].data\n",
    "\n",
    "\n",
    "c = SkyCoord(\n",
    "    ra = RA * u.degree, \n",
    "    dec = DEC * u.degree, \n",
    "    frame='icrs'\n",
    ")\n",
    "L = c.galactic.l.degree\n",
    "B = c.galactic.b.degree\n",
    "\n",
    "\n",
    "MAG_G -= 1.19863 * get_av(L, B, ngp, sgp)\n",
    "MAG_R -= 0.83734* get_av(L, B, ngp, sgp)\n",
    "\n",
    "cond = (MAG_G < mmax)&(MAG_G > mmin)&(MAG_G-MAG_R > cmin)&(MAG_G-MAG_R < cmax)\n",
    "\n",
    "RA = RA[cond]\n",
    "DEC = DEC[cond]\n",
    "MAG_G = MAG_G[cond]\n",
    "MAG_R = MAG_R[cond]\n",
    "MAGERR_G = MAGERR_G[cond]\n",
    "MAGERR_R = MAGERR_R[cond]\n",
    "\n",
    "col1 = fits.Column(name='RA', format='D', array=RA)\n",
    "col2 = fits.Column(name='DEC', format='D', array=DEC)\n",
    "col3 = fits.Column(name='MAG_G', format='E', array=MAG_G)\n",
    "col4 = fits.Column(name='MAG_R', format='E', array=MAG_R)\n",
    "col5 = fits.Column(name='MAGERR_G', format='E', array=MAGERR_G)\n",
    "col6 = fits.Column(name='MAGERR_R', format='E', array=MAGERR_R)\n",
    "\n",
    "cols = fits.ColDefs([col1, col2, col3, col4, col5, col6])\n",
    "tbhdu = fits.BinTableHDU.from_columns(cols)\n",
    "\n",
    "# Escreve o arquivo no diretório results\n",
    "# TODO: Talves o arquivo fits pudesse ser escrito já compactato. fits.fz\n",
    "tbhdu.writeto('results/DES_Y6_Gold_v1.fits', overwrite=True)\n",
    "# '''\n",
    "# hdu = fits.open(\"DES_Y6_Gold_v1.fits\", memmap=True)\n",
    "# RA = hdu[1].data.field('RA')\n",
    "# DEC = hdu[1].data.field('DEC')\n",
    "# MAG_G = hdu[1].data.field('MAG_G')\n",
    "# MAG_R = hdu[1].data.field('MAG_R')\n",
    "# MAGERR_G = hdu[1].data.field('MAGERR_G')\n",
    "# MAGERR_R = hdu[1].data.field('MAGERR_R')\n",
    "# '''"
   ]
  },
  {
   "cell_type": "markdown",
   "metadata": {},
   "source": [
    "## Simulation of dwarf galaxies and globular clusters\n",
    "\n",
    "In fact, the dwarf galaxies and globular clusters are very similar in terms of stellar populations. Dwarf galaxies\n",
    "have a half-light radius larger than globular clusters (given the amount of dark matter) with the same absolute magnitude. The code below simulates stars using a Kroupa or Salpeter IMF, and an exponential radius for the 2D distribution of stars. "
   ]
  },
  {
   "cell_type": "markdown",
   "metadata": {},
   "source": [
    "Calculating the properties of the sample of simulated clusters. Write the properties to file 'objects.dat'."
   ]
  },
  {
   "cell_type": "code",
   "execution_count": 8,
   "metadata": {},
   "outputs": [],
   "source": [
    "# TODO: A geração do arquivo objects.dat me parece que pode ser uma função.\n",
    "\n",
    "cell_area = hp.nside2pixarea(nside_ini, degrees=True)\n",
    "\n",
    "area = (\n",
    "    (dec_max - dec_min)\n",
    "    * np.cos(np.deg2rad((ra_max + ra_min) / 2.0))\n",
    "    * (ra_max - ra_min)\n",
    ")\n",
    "\n",
    "vertices = hp.ang2vec(\n",
    "    [\n",
    "        ra_min + border_extract,\n",
    "        ra_max - border_extract,\n",
    "        ra_max - border_extract,\n",
    "        ra_min + border_extract,\n",
    "    ],\n",
    "    [\n",
    "        dec_min + border_extract,\n",
    "        dec_min + border_extract,\n",
    "        dec_max - border_extract,\n",
    "        dec_max - border_extract,\n",
    "    ],\n",
    "    lonlat=True,\n",
    ")\n",
    "\n",
    "hp_sample_un = hp.query_polygon(nside_ini, vertices, inclusive=False, nest=True, buff=None)\n",
    "\n",
    "\n",
    "RA_pix, DEC_pix = hp.pix2ang(nside_ini, hp_sample_un, nest=True, lonlat=True)\n",
    "\n",
    "c = SkyCoord(ra=RA_pix * u.degree, dec=DEC_pix * u.degree, frame='icrs')\n",
    "L = c.galactic.l.degree\n",
    "B = c.galactic.b.degree\n",
    "\n",
    "# TODO: Se possivel utilizar o formato csv, \n",
    "# com a primeira linha sendo os nomes das colunas \n",
    "# e um separador melhor que espaço tipo ; ou |\n",
    "# Pode ser criado usando o proprio Numpy. \n",
    "# np.savetxt(path, X, delimiter=';', header= ';'.join(X.dtype.names))\n",
    "with open('results/objects.dat', 'w') as obj_file:\n",
    "\n",
    "    # TODO: Seria interessante ter uma descrição do que está\n",
    "    #  sendo feito para gerar esse arquivo.\n",
    "    mM = mM_min + np.random.rand(len(hp_sample_un)) * (mM_max - mM_min)\n",
    "    r_exp = 10**(log10_rexp_min * (log10_rexp_max / log10_rexp_min) ** np.random.rand(len(hp_sample_un)))\n",
    "    mass = 10**(log10_mass_min * (log10_mass_max / log10_mass_min) ** np.random.rand(len(hp_sample_un)))\n",
    "    dist = 10 ** ((mM/5) + 1)\n",
    "\n",
    "    ell = ell_min + np.random.rand(len(hp_sample_un)) * (ell_max - ell_min)\n",
    "    pa = pa_min + np.random.rand(len(hp_sample_un)) * (pa_max - pa_min)\n",
    "\n",
    "    for i in range(len(hp_sample_un)):\n",
    "        print('{:d} {:.4f} {:.4f} {:.4f} {:.4f} {:.2f} {:.2f} {:.2f} {:.2f} {:.2f}'.format(\n",
    "            hp_sample_un[i], L[i], B[i], RA_pix[i], DEC_pix[i], r_exp[i], ell[i], pa[i], \\\n",
    "            mass[i], dist[i]), file=obj_file)\n",
    "\n",
    "\n"
   ]
  },
  {
   "cell_type": "markdown",
   "metadata": {},
   "source": [
    "## Dist stars\n",
    "Reading data from magnitude and errors.\n",
    "\n"
   ]
  },
  {
   "cell_type": "code",
   "execution_count": 9,
   "metadata": {},
   "outputs": [],
   "source": [
    "# TODO: Pode virar uma função na biblioteca. \n",
    "mag1_, err1_, err2_ = np.loadtxt('data/errors_Y6.dat', usecols=(0, 1, 2), unpack=True)\n",
    "err1_ += 0.015; err2_ += 0.015"
   ]
  },
  {
   "cell_type": "markdown",
   "metadata": {},
   "source": [
    "Now simulating the clusters using 'faker' function."
   ]
  },
  {
   "cell_type": "code",
   "execution_count": 10,
   "metadata": {},
   "outputs": [
    {
     "name": "stdout",
     "output_type": "stream",
     "text": [
      "Submit Parsls Tasks: 100%|██████████| 66/66 [00:01<00:00, 53.29it/s]\n",
      "Tasks Done:\n",
      "100%|██████████| 66/66 [00:00<00:00, 42295.50it/s]\n"
     ]
    }
   ],
   "source": [
    "# Workflow Parsl\n",
    "import parsl\n",
    "from parsl.app.app import python_app, bash_app\n",
    "from parsl.configs.local_threads import config\n",
    "\n",
    "# Progress Bar with tqdm\n",
    "import sys\n",
    "from time import sleep\n",
    "from tqdm import tqdm\n",
    "# from tqdm import tqdm_notebook as tqdm\n",
    "\n",
    "# Remove as configurações do Parsl caso já tenham sido carregadas antes.\n",
    "parsl.clear()\n",
    "# Carrega as configurações e reserva os recursos.\n",
    "parsl.load(config)\n",
    "\n",
    "@python_app\n",
    "def faker_app(N_stars_cmd, frac_bin, IMF_author, x0, y0, rexp, ell_, pa, dist, hpx):\n",
    "\n",
    "    faker(\n",
    "        N_stars_cmd,\n",
    "        frac_bin,\n",
    "        IMF_author,\n",
    "        x0,\n",
    "        y0,\n",
    "        rexp,\n",
    "        ell_,\n",
    "        pa,\n",
    "        dist,\n",
    "        hpx,\n",
    "        cmin,\n",
    "        cmax,\n",
    "        mmin,\n",
    "        mmax,\n",
    "        mag1_,\n",
    "        err1_,\n",
    "        err2_,\n",
    "        file_iso,\n",
    "    )\n",
    "\n",
    "\n",
    "futures = list()\n",
    "\n",
    "# Cria uma Progressbar (Opcional)\n",
    "with tqdm(total=len(hp_sample_un), file=sys.stdout) as pbar:\n",
    "    pbar.set_description(\"Submit Parsls Tasks\")\n",
    "\n",
    "    # Submissão dos Jobs Parsl\n",
    "    for i in range(len(hp_sample_un)):\n",
    "        # TODO: Descrever essa operação, esse valor 0.54 é um parametro? é fixo para sempre?\n",
    "        # Deveria estar na lista de variaveis no inicio do JN?\n",
    "        N_stars_cmd = int(mass[i] / 0.54)\n",
    "        # os.register_at_fork(after_in_child=lambda: _get_font.cache_clear())\n",
    "        futures.append(\n",
    "            faker_app(\n",
    "                N_stars_cmd,\n",
    "                frac_bin,\n",
    "                \"Kroupa\",\n",
    "                RA_pix[i],\n",
    "                DEC_pix[i],\n",
    "                r_exp[i],\n",
    "                ell[i],\n",
    "                pa[i],\n",
    "                dist[i],\n",
    "                hp_sample_un[i],\n",
    "            )\n",
    "        )\n",
    "\n",
    "        pbar.update()\n",
    "# Fim da submissão dos Jobs,\n",
    "\n",
    "\n",
    "# Espera todas as tasks Parsl terminarem\n",
    "# Este loop fica monitarando as parsl.futures\n",
    "# Até que todas tenham status done.\n",
    "# Esse bloco todo é opicional\n",
    "\n",
    "# Progressbar para acompanhar as parsl.tasks.\n",
    "print(\"Tasks Done:\")\n",
    "with tqdm(total=len(futures), file=sys.stdout) as pbar2:\n",
    "    # is_done é um array contendo True ou False para cada task\n",
    "    # is_done.count(True) retorna a quantidade de tasks que já terminaram.\n",
    "    is_done = list()\n",
    "    done_count = 0\n",
    "    while is_done.count(True) != len(futures):\n",
    "        is_done = list()\n",
    "        for f in futures:\n",
    "            is_done.append(f.done())\n",
    "\n",
    "        # Só atualiza a pbar se o valor for diferente.\n",
    "        if is_done.count(True) != done_count:\n",
    "            # Reset é necessário por que a quantidade de iterações\n",
    "            # é maior que a quantidade de jobs.\n",
    "            pbar2.reset(total=len(futures))\n",
    "\n",
    "            done_count = is_done.count(True)\n",
    "            pbar2.update(done_count)\n",
    "\n",
    "        if done_count < len(futures):\n",
    "            sleep(3)\n"
   ]
  },
  {
   "cell_type": "markdown",
   "metadata": {},
   "source": [
    "Now functions to join catalogs of simulated clusters and field stars, and to estimate signal-to-noise ratio."
   ]
  },
  {
   "cell_type": "code",
   "execution_count": 11,
   "metadata": {},
   "outputs": [],
   "source": [
    "# def JoinCat():\n",
    "\n",
    "# def SNR_estimate(RA__, DEC__, G__, GR__, PIX_sim, nside1, mM_, inner_circle, rin_annulus, rout_annulus):\n",
    "\n",
    "# def WriteSimClusFeatures():\n",
    "    \n",
    "# def SplitOutputHPX(file_in, out_dir):\n",
    "\n",
    "# def SplitFtpHPX(file_in, out_dir, nside_in=4096, nest_in=True, nside_out=64, nest_out=True):\n"
   ]
  },
  {
   "cell_type": "markdown",
   "metadata": {},
   "source": [
    "Now applying the two functions."
   ]
  },
  {
   "cell_type": "code",
   "execution_count": 12,
   "metadata": {},
   "outputs": [
    {
     "name": "stdout",
     "output_type": "stream",
     "text": [
      "results/des_mockcat_for_detection.fits\n"
     ]
    }
   ],
   "source": [
    "# TODO: Gerar todos os arquivos de resultados no mesmo diretório ('results').\n",
    "mockcat = join_cat(\n",
    "    ra_min,\n",
    "    ra_max,\n",
    "    dec_min,\n",
    "    dec_max,\n",
    "    hp_sample_un,\n",
    "    survey,\n",
    "    RA,\n",
    "    DEC,\n",
    "    MAG_G,\n",
    "    MAG_R,\n",
    "    MAGERR_G,\n",
    "    MAGERR_R,\n",
    "    nside_ini,\n",
    "    mmax,\n",
    "    mmin,\n",
    "    cmin,\n",
    "    cmax)\n",
    "# TODO: Exemplo para ler as primeiras linhas deste arquivo para verificar os resultados.\n",
    "print(mockcat)"
   ]
  },
  {
   "cell_type": "code",
   "execution_count": 13,
   "metadata": {},
   "outputs": [],
   "source": [
    "split_output_hpx(mockcat, 'results/HPX_cats')\n",
    "# SplitFtpHPX('ftp_4096_nest.fits', 'HPX_ftp')"
   ]
  },
  {
   "cell_type": "code",
   "execution_count": 14,
   "metadata": {},
   "outputs": [
    {
     "name": "stderr",
     "output_type": "stream",
     "text": [
      "/home/glauber/linea/gawa_simulations/gawa_simulations/gawa.py:712: RuntimeWarning: divide by zero encountered in double_scalars\n",
      "  return len(r_star[r_star < inner_circle]) / np.sqrt(N_bg_equal_area)\n"
     ]
    },
    {
     "name": "stdout",
     "output_type": "stream",
     "text": [
      "results/N_stars.dat\n"
     ]
    }
   ],
   "source": [
    "clus_feat = write_sim_clus_features(mockcat, hp_sample_un, nside_ini, mM)\n",
    "print(clus_feat)"
   ]
  },
  {
   "cell_type": "markdown",
   "metadata": {},
   "source": [
    "Merge both files in a single file using join command."
   ]
  },
  {
   "cell_type": "code",
   "execution_count": 2,
   "metadata": {},
   "outputs": [],
   "source": [
    "import os\n",
    "from pathlib import Path\n",
    "# TODO: Transformar em uma função\n",
    "os.system('join --nocheck-order results/N_stars.dat results/objects.dat > results/star_clusters_simulated.dat')\n",
    "\n",
    "star_clusters_simulated = Path(\"results\", \"star_clusters_simulated.dat\")"
   ]
  },
  {
   "cell_type": "markdown",
   "metadata": {},
   "source": [
    "A few plots to characterize the simulated clusters."
   ]
  },
  {
   "cell_type": "code",
   "execution_count": 3,
   "metadata": {},
   "outputs": [
    {
     "data": {
      "image/png": "[encoded data removed]",
      "text/plain": [
       "<Figure size 864x360 with 2 Axes>"
      ]
     },
     "metadata": {
      "needs_background": "light"
     },
     "output_type": "display_data"
    }
   ],
   "source": [
    "# TODO: Renomear essa função!\n",
    "from gawa_simulations.plot import unnamed_plot\n",
    "unnamed_plot(star_clusters_simulated)\n"
   ]
  },
  {
   "cell_type": "code",
   "execution_count": 2,
   "metadata": {},
   "outputs": [
    {
     "data": {
      "image/png": "[encoded data removed]",
      "text/plain": [
       "<Figure size 432x288 with 1 Axes>"
      ]
     },
     "metadata": {
      "needs_background": "light"
     },
     "output_type": "display_data"
    },
    {
     "data": {
      "image/png": "[encoded data removed]",
      "text/plain": [
       "<Figure size 720x720 with 1 Axes>"
      ]
     },
     "metadata": {
      "needs_background": "light"
     },
     "output_type": "display_data"
    },
    {
     "name": "stdout",
     "output_type": "stream",
     "text": [
      "66\n"
     ]
    }
   ],
   "source": [
    "# Plot footprint map to check area.\n",
    "from pathlib import Path\n",
    "from gawa_simulations.plot import plot_ftp\n",
    "\n",
    "ftp_fits = Path(\"data\", \"ftp_4096_nest.fits\")\n",
    "\n",
    "# TODO: Estes parametros não são necessários se o JN for executado todo\n",
    "star_clusters_simulated = Path(\"results\", \"star_clusters_simulated.dat\")\n",
    "mockcat = Path(\"results\", \"des_mockcat_for_detection.fits\")\n",
    "ra_min, ra_max = 45, 55  # 5., 85. # limits in ra of the simulated map\n",
    "dec_min, dec_max = -30, -20  # -60., -20. # limits in dec of the simulated map\n",
    "\n",
    "plot_ftp(ftp_fits, star_clusters_simulated, mockcat, ra_max, ra_min, dec_min, dec_max)\n"
   ]
  },
  {
   "cell_type": "code",
   "execution_count": 1,
   "metadata": {},
   "outputs": [
    {
     "data": {
      "image/png": "[encoded data removed]",
      "text/plain": [
       "<Figure size 432x288 with 1 Axes>"
      ]
     },
     "metadata": {
      "needs_background": "light"
     },
     "output_type": "display_data"
    },
    {
     "data": {
      "image/png": "[encoded data removed]",
      "text/plain": [
       "<Figure size 432x288 with 1 Axes>"
      ]
     },
     "metadata": {
      "needs_background": "light"
     },
     "output_type": "display_data"
    },
    {
     "data": {
      "image/png": "[encoded data removed]",
      "text/plain": [
       "<Figure size 432x288 with 1 Axes>"
      ]
     },
     "metadata": {
      "needs_background": "light"
     },
     "output_type": "display_data"
    },
    {
     "data": {
      "image/png": "[encoded data removed]",
      "text/plain": [
       "<Figure size 432x288 with 1 Axes>"
      ]
     },
     "metadata": {
      "needs_background": "light"
     },
     "output_type": "display_data"
    },
    {
     "data": {
      "image/png": "[encoded data removed]",
      "text/plain": [
       "<Figure size 432x288 with 1 Axes>"
      ]
     },
     "metadata": {
      "needs_background": "light"
     },
     "output_type": "display_data"
    }
   ],
   "source": [
    "# Plots to analyze the simulated clusters.\n",
    "from pathlib import Path\n",
    "from gawa_simulations.plot import plots_ang_size\n",
    "\n",
    "ftp_fits = Path(\"data\", \"ftp_4096_nest.fits\")\n",
    "\n",
    "# TODO: Estes parametros não são necessários se o JN for executado todo\n",
    "star_clusters_simulated = Path(\"results\", \"star_clusters_simulated.dat\")\n",
    "mmin, mmax, cmin, cmax = 17.00, 24.00, -0.4, 1.6  # magnitude and color limits of stars\n",
    "# Diretório onde estão os arquivo _clus.dat\n",
    "clus_path = Path(\"results\")\n",
    "output_plots = Path(\"results/plots\")\n",
    "plots_ang_size(star_clusters_simulated, clus_path, mmin, mmax, cmin, cmax, output_plots)\n",
    "\n",
    "# TODO: Seria interessante dividir essa função em duas\n",
    "# Uma para os plots de _clus.dat\n",
    "# Outra para os 4 plots do final.\n",
    "# Dessa forma a geração dos plots _clus.dat poderia ser paralelizada.\n"
   ]
  },
  {
   "cell_type": "code",
   "execution_count": null,
   "metadata": {},
   "outputs": [],
   "source": [
    "# TODO: Continuar DAQUI!\n",
    "# def plots_ref():\n",
    "# plots_ref()"
   ]
  },
  {
   "cell_type": "markdown",
   "metadata": {},
   "source": [
    "Copying the main files to the folder where the Gawa code will be able to detect the simulated clusters."
   ]
  },
  {
   "cell_type": "code",
   "execution_count": null,
   "metadata": {},
   "outputs": [],
   "source": [
    "# os.system('cp ftp_4096_nest.fits ../ga-wazpy_detect_sim/raw_ftp/')\n",
    "# os.system('cp des*_detection.fits ../ga-wazpy_detect_sim/raw_cats_corr/')\n",
    "# os.system('cp star_clusters_simulated.dat ../ga-wazpy_detect_sim/')\n",
    "# os.system('cp _*.png ../ga-wazpy_detect_sim/')\n",
    "# os.system('cp *_cmd.png ../ga-wazpy_detect_sim/')\n",
    "# os.system('ls *_cmd.png > list_cmds.dat')\n",
    "# os.system('python format_html.py > sim_main.html')\n",
    "# os.system('cp sim_main.html ../ga-wazpy_detect_sim/')"
   ]
  },
  {
   "cell_type": "code",
   "execution_count": null,
   "metadata": {},
   "outputs": [],
   "source": [
    "# def plot_err():\n",
    "# plot_err()"
   ]
  },
  {
   "cell_type": "code",
   "execution_count": null,
   "metadata": {},
   "outputs": [],
   "source": [
    "# def RemoveCloseStars(name_cat, output_cat, PSF_factor):\n",
    "\n",
    "# RemoveCloseStars('des_mockcat_for_detection.fits', 'des_mockcat_for_detection_wo_closest.fits', 1.0)"
   ]
  }
 ],
 "metadata": {
  "kernelspec": {
   "display_name": "Python 3 (ipykernel)",
   "language": "python",
   "name": "python3"
  },
  "language_info": {
   "codemirror_mode": {
    "name": "ipython",
    "version": 3
   },
   "file_extension": ".py",
   "mimetype": "text/x-python",
   "name": "python",
   "nbconvert_exporter": "python",
   "pygments_lexer": "ipython3",
   "version": "3.8.12"
  }
 },
 "nbformat": 4,
 "nbformat_minor": 4
}
