{
 "cells": [
  {
   "cell_type": "markdown",
   "metadata": {
    "slideshow": {
     "slide_type": "fragment"
    }
   },
   "source": [
    "## ga_sim"
   ]
  },
  {
   "cell_type": "markdown",
   "metadata": {},
   "source": [
    "This jn is intended to create simulations of dwarf galaxies and globular clusters using as field stars the catalog of DES. These simulations will be later copied to gawa jn, a pipeline to detect stellar systems and fields stars in the same catalog. In principle, this pipeline read a table in data base with g and r (or bluer and redder) magnitudes, correct the stars for extinction in each band, and randomize its positions in RA and DEC. This is done to avoid stellar systems in the region simulated (and later inspected by the code of detection). The star clusters are inserted later, centered in each HP pixel with specific nside.\n",
    "\n",
    "All the parameters are smarized in a JSON file in the same folder as this notebook.\n",
    "\n",
    "To complete all the steps you just have to run all the cells below in sequence."
   ]
  },
  {
   "cell_type": "markdown",
   "metadata": {},
   "source": [
    "Firstly, follow the instructions in the README file to install an enviroment with the packages (using terminal). Do it only once.\n",
    "\n",
    "Following, activate the env in the terminal. In the notebook, restart the kernel and select the env created. Now, you are able to properly run the cells bellow."
   ]
  },
  {
   "cell_type": "markdown",
   "metadata": {},
   "source": [
    "Run this jupyter notebook in the LIneA env with the following command:\n",
    "<br>\n",
    "`jupyter nbconvert --execute --to html --EmbedImagesPreprocessor.embed_images=True ga_sim.ipynb`\n",
    "<br>\n",
    "and after the command has finished, run the following cell:\n",
    "<br>\n",
    "`cp ga_sim.html ~/public_html/gawa_processes/NNNNN/simulations/`\n",
    "<br>\n",
    "where NNNNN is the process number."
   ]
  },
  {
   "cell_type": "code",
   "execution_count": 2,
   "metadata": {},
   "outputs": [
    {
     "data": {
      "text/plain": [
       "<parsl.dataflow.dflow.DataFlowKernel at 0x7f056c682ee0>"
      ]
     },
     "execution_count": 2,
     "metadata": {},
     "output_type": "execute_result"
    }
   ],
   "source": [
    "import numpy as np\n",
    "from astropy.coordinates import SkyCoord\n",
    "from astropy import units as u\n",
    "from astropy.table import Table\n",
    "import astropy.io.fits as fits\n",
    "from astropy.io.fits import getdata\n",
    "from pathlib import Path\n",
    "import healpy as hp\n",
    "import sqlalchemy, json, os, sys, glob, parsl\n",
    "from parsl.app.app import python_app, bash_app\n",
    "from parsl.configs.local_threads import config\n",
    "from time import sleep\n",
    "from tqdm import tqdm\n",
    "from ga_sim import (\n",
    "    make_footprint,\n",
    "    faker,\n",
    "    join_cat,\n",
    "    write_sim_clus_features,\n",
    "    download_iso,\n",
    "    read_cat,\n",
    "    gen_clus_file,\n",
    "    read_error,\n",
    "    clus_file_results,\n",
    "    join_cats_clean,\n",
    "    split_files,\n",
    "    clean_input_cat,\n",
    "    clean_input_cat_dist,\n",
    "    export_results\n",
    ")\n",
    "\n",
    "parsl.clear()\n",
    "parsl.load(config)\n"
   ]
  },
  {
   "cell_type": "markdown",
   "metadata": {},
   "source": [
    "Below, load the JSON config file (change any parameter in case you want) and create folders for results.\n",
    "\n",
    "Load the maps for reddening."
   ]
  },
  {
   "cell_type": "code",
   "execution_count": null,
   "metadata": {},
   "outputs": [],
   "source": [
    "# Main settings:\n",
    "confg = \"ga_sim.json\"\n",
    "\n",
    "# read config file\n",
    "with open(confg) as fstream:\n",
    "    param = json.load(fstream)\n",
    "\n",
    "# Diretório para os resultados\n",
    "os.system(\"mkdir -p \" + param['results_path'])\n",
    "\n",
    "# Reading reddening files\n",
    "hdu_ngp = fits.open(\"sample_data/SFD_dust_4096_ngp.fits\", memmap=True)\n",
    "ngp = hdu_ngp[0].data\n",
    "\n",
    "hdu_sgp = fits.open(\"sample_data/SFD_dust_4096_sgp.fits\", memmap=True)\n",
    "sgp = hdu_sgp[0].data\n"
   ]
  },
  {
   "cell_type": "markdown",
   "metadata": {},
   "source": [
    "Downloading the isochrone table with the last improvements from PARSEC.\n",
    "Printing age and metalicity of isochrone downloaded. Try one more time in case of empty file. Sometimes there are problems with connection."
   ]
  },
  {
   "cell_type": "code",
   "execution_count": null,
   "metadata": {},
   "outputs": [],
   "source": [
    "download_iso(param['padova_version_code'], param['survey'], 0.0152 * (10 ** param['MH_simulation']),\n",
    "             param['age_simulation'], param['av_simulation'], param['file_iso'])\n"
   ]
  },
  {
   "cell_type": "markdown",
   "metadata": {},
   "source": [
    "Checking age and metalicity of the isochrone. \n",
    "\n",
    "mean_mass is the average mass in the range of magnitudes. This is important to calculate a useful range of masses and\n",
    "avoid wast time simulating a large number of low-mass stars that are not visible in the range of magnitudes in simulation."
   ]
  },
  {
   "cell_type": "code",
   "execution_count": null,
   "metadata": {},
   "outputs": [],
   "source": [
    "# Reading [M/H], log_age, mini, g\n",
    "iso_info = np.loadtxt(param['file_iso'], usecols=(1, 2, 3, 26), unpack=True)\n",
    "FeH_iso = iso_info[0][0]\n",
    "logAge_iso = iso_info[1][0]\n",
    "m_ini_iso = iso_info[2]\n",
    "g_iso = iso_info[3]\n",
    "\n",
    "print('[Fe/H]={:.2f}, Age={:.2f} Gyr'.format(FeH_iso, 10**(logAge_iso-9)))\n",
    "\n",
    "mM_mean = (param['mM_max'] + param['mM_min']) / 2.\n",
    "print(np.max(m_ini_iso[g_iso + mM_mean < param['mmax']]))\n",
    "mean_mass = (np.min(m_ini_iso[g_iso + mM_mean < param['mmax']]) +\n",
    "             np.max(m_ini_iso[g_iso + mM_mean < param['mmax']])) / 2.\n",
    "\n",
    "print('Mean mass (M_sun): {:.2f}'.format(mean_mass))\n"
   ]
  },
  {
   "cell_type": "markdown",
   "metadata": {},
   "source": [
    "Creating the footprint map as a flat map. TODO: Use astropy_healpix to improve the ftp map (better sample of data)."
   ]
  },
  {
   "cell_type": "code",
   "execution_count": null,
   "metadata": {},
   "outputs": [],
   "source": [
    "hpx_ftp = make_footprint(param['ra_min'], param['ra_max'], param['dec_min'], param['dec_max'],\n",
    "                         param['nside_ftp'], output_path=param['results_path'])\n",
    "print(len(hpx_ftp))\n"
   ]
  },
  {
   "cell_type": "markdown",
   "metadata": {},
   "source": [
    "Reading the catalog from DB, writing it as a fits file and returning as positions, magnitudes free of extinction (top of Galaxy, in order to agree to the stellar models) and its errors.\n",
    "\n",
    "The stars are also filtered in by magnitude and color ranges.\n",
    "\n",
    "Avoid read from the DB many times in the case the same catalog will be used multiple times.\n",
    "\n",
    "DP0 data: tablename for DP0: dp0.dp0_full_des\n",
    "extendedness: 0 for stars, 1 for galaxies\n",
    "\n",
    "|       Column         |       Type       |\n",
    "| :------------------- | ---------------: |\n",
    "| coadd_objects_id     | bigint           |\n",
    "| z_true               | real             |\n",
    "| ra                   | double precision |\n",
    "| dec                  | double precision |\n",
    "| extendedness         | double precision |\n",
    "| mag_u                | double precision |\n",
    "| mag_g                | double precision |\n",
    "| mag_r                | double precision |\n",
    "| mag_i                | double precision |\n",
    "| mag_z                | double precision |\n",
    "| mag_y                | double precision |\n",
    "| magerr_u             | double precision |\n",
    "| magerr_g             | double precision |\n",
    "| magerr_r             | double precision |\n",
    "| magerr_i             | double precision |\n",
    "| magerr_z             | double precision |\n",
    "| magerr_y             | double precision |\n",
    "| host_galaxy          | bigint           |\n",
    "| is_variable          | integer          |\n",
    "| is_pointsource       | integer          |\n",
    "| truth_type           | bigint           |\n",
    "| match_sep            | double precision |\n",
    "| cosmodc2_hp          | bigint           |\n",
    "| cosmodc2_id          | bigint           |\n",
    "| is_good_match        | boolean          |\n",
    "| is_unique_truth_entry| boolean          |"
   ]
  },
  {
   "cell_type": "code",
   "execution_count": null,
   "metadata": {},
   "outputs": [],
   "source": [
    "RA, DEC, MAG_G, MAGERR_G, MAG_R, MAGERR_R = read_cat(\n",
    "    param['vac_ga'], param['ra_min'], param['ra_max'], param['dec_min'], param['dec_max'],\n",
    "    param['mmin'], param['mmax'], param['cmin'], param['cmax'],\n",
    "    \"LSST_DP0_derred.fits\", 1.17450, 0.86666, ngp, sgp, param['results_path'],\n",
    "    param['results_path'] + \"/ftp_4096_nest.fits\", param['nside3'], param['nside_ftp'])\n"
   ]
  },
  {
   "cell_type": "markdown",
   "metadata": {},
   "source": [
    "## Simulation of dwarf galaxies and globular clusters\n",
    "\n",
    "In fact, the dwarf galaxies and globular clusters are very similar in terms of stellar populations and stellar density profiles.\n",
    "Dwarf galaxies have a half-light radius a bit larger than globular clusters (given the amount of dark matter), keeping constant absolute magnitude. The cell below writes the features of a sample of simulated stellar clustesr given the range\n",
    "of positions, visible masses, distances, exponential radius, ellipticity, positional angle and removing clusters too close to edge of simulated region (border_extract, in degrees). All these pars are read from JSON file."
   ]
  },
  {
   "cell_type": "markdown",
   "metadata": {},
   "source": [
    "Generating the properties of clusters based on properties stated above. Writting to file 'objects.dat'."
   ]
  },
  {
   "cell_type": "code",
   "execution_count": null,
   "metadata": {},
   "outputs": [],
   "source": [
    "RA_pix, DEC_pix, r_exp, ell, pa, dist, mass, mM, hp_sample_un = gen_clus_file(\n",
    "    param['ra_min'],\n",
    "    param['ra_max'],\n",
    "    param['dec_min'],\n",
    "    param['dec_max'],\n",
    "    param['nside_ini'],\n",
    "    param['border_extract'],\n",
    "    param['mM_min'],\n",
    "    param['mM_max'],\n",
    "    param['log10_rexp_min'],\n",
    "    param['log10_rexp_max'],\n",
    "    param['log10_mass_min'],\n",
    "    param['log10_mass_max'],\n",
    "    param['ell_min'],\n",
    "    param['ell_max'],\n",
    "    param['pa_min'],\n",
    "    param['pa_max'],\n",
    "    param['results_path']\n",
    ")\n"
   ]
  },
  {
   "cell_type": "markdown",
   "metadata": {},
   "source": [
    "## Dist stars\n",
    "Reading data from magnitude and errors.\n",
    "\n"
   ]
  },
  {
   "cell_type": "code",
   "execution_count": null,
   "metadata": {},
   "outputs": [],
   "source": [
    "mag1_, err1_, err2_ = read_error(param['file_error'], 0.015, 0.015)\n"
   ]
  },
  {
   "cell_type": "markdown",
   "metadata": {},
   "source": [
    "Now simulating the clusters.\n",
    "\n",
    "Code in the cell below simulates stars using a Kroupa or Salpeter as Initial Mass Function (reading initial mass from models). Given the exponential radius, ellipticity and positional angle the stars are distributed into the sky. \n",
    "\n",
    "Final table contents the position in sky (RA and DEC), magnitudes + its errors, standard deviation of expected errors and initial masses. "
   ]
  },
  {
   "cell_type": "code",
   "execution_count": null,
   "metadata": {},
   "outputs": [],
   "source": [
    "@python_app\n",
    "def faker_app(MV, frac_bin, x0, y0, rexp, ell_, pa, dist, hpx, output_path):\n",
    "\n",
    "    global param\n",
    "\n",
    "    faker(\n",
    "        N_stars_cmd,\n",
    "        frac_bin,\n",
    "        IMF_author,\n",
    "        x0,\n",
    "        y0,\n",
    "        rexp,\n",
    "        ell_,\n",
    "        pa,\n",
    "        dist,\n",
    "        hpx,\n",
    "        param['cmin'],\n",
    "        param['cmax'],\n",
    "        param['mmin'],\n",
    "        param['mmax'],\n",
    "        mag1_,\n",
    "        err1_,\n",
    "        err2_,\n",
    "        param['file_iso'],\n",
    "        output_path\n",
    "    )\n",
    "\n",
    "\n",
    "# Diretório dos arquivo _clus.dat gerados pela faker.\n",
    "fake_clus_path = param['results_path'] + '/fake_clus'\n",
    "\n",
    "futures = list()\n",
    "\n",
    "# Cria uma Progressbar (Opcional)\n",
    "with tqdm(total=len(hp_sample_un), file=sys.stdout) as pbar:\n",
    "    pbar.set_description(\"Submit Parsls Tasks\")\n",
    "\n",
    "    # Submissão dos Jobs Parsl\n",
    "    for i in range(len(hp_sample_un)):\n",
    "        # Estimating the number of stars in cmd dividing mass by mean mass\n",
    "        N_stars_cmd = int(mass[i] / mean_mass)\n",
    "        # os.register_at_fork(after_in_child=lambda: _get_font.cache_clear())\n",
    "        futures.append(\n",
    "            faker_app(\n",
    "                N_stars_cmd,\n",
    "                param['frac_bin'],\n",
    "                param['IMF_author'],\n",
    "                RA_pix[i],\n",
    "                DEC_pix[i],\n",
    "                r_exp[i],\n",
    "                ell[i],\n",
    "                pa[i],\n",
    "                dist[i],\n",
    "                hp_sample_un[i],\n",
    "                output_path=fake_clus_path\n",
    "            )\n",
    "        )\n",
    "\n",
    "        pbar.update()\n",
    "\n",
    "# Progressbar para acompanhar as parsl.tasks.\n",
    "print(\"Tasks Done:\")\n",
    "with tqdm(total=len(futures), file=sys.stdout) as pbar2:\n",
    "    # is_done é um array contendo True ou False para cada task\n",
    "    # is_done.count(True) retorna a quantidade de tasks que já terminaram.\n",
    "    is_done = list()\n",
    "    done_count = 0\n",
    "    while is_done.count(True) != len(futures):\n",
    "        is_done = list()\n",
    "        for f in futures:\n",
    "            is_done.append(f.done())\n",
    "\n",
    "        # Só atualiza a pbar se o valor for diferente.\n",
    "        if is_done.count(True) != done_count:\n",
    "            done_count = is_done.count(True)\n",
    "            # Reset é necessário por que a quantidade de iterações\n",
    "            # é maior que a quantidade de jobs.\n",
    "            pbar2.reset(total=len(futures))\n",
    "            # Atualiza a pbar\n",
    "            pbar2.update(done_count)\n",
    "\n",
    "        if done_count < len(futures):\n",
    "            sleep(3)\n"
   ]
  },
  {
   "cell_type": "markdown",
   "metadata": {},
   "source": [
    "Now, the cell below joins catalogs of simulated clusters and field stars into a single one (optional), and it estimates signal-to-noise ratio from simulations."
   ]
  },
  {
   "cell_type": "code",
   "execution_count": null,
   "metadata": {},
   "outputs": [],
   "source": [
    "mockcat = join_cat(\n",
    "    param['ra_min'],\n",
    "    param['ra_max'],\n",
    "    param['dec_min'],\n",
    "    param['dec_max'],\n",
    "    hp_sample_un,\n",
    "    param['survey'],\n",
    "    RA,\n",
    "    DEC,\n",
    "    MAG_G,\n",
    "    MAG_R,\n",
    "    MAGERR_G,\n",
    "    MAGERR_R,\n",
    "    param['nside_ini'],\n",
    "    param['mmax'],\n",
    "    param['mmin'],\n",
    "    param['cmin'],\n",
    "    param['cmax'],\n",
    "    input_path=fake_clus_path,\n",
    "    output_path=param['results_path'])\n"
   ]
  },
  {
   "cell_type": "markdown",
   "metadata": {},
   "source": [
    "If necessary, split the catalog with simulated clusters and field stars into many files according HP schema.\n",
    "\n",
    "This is important in case of large catalogs, avoiding create a large single file."
   ]
  },
  {
   "cell_type": "code",
   "execution_count": null,
   "metadata": {},
   "outputs": [],
   "source": [
    "os.makedirs(param['hpx_cats_path'], exist_ok=True)\n",
    "os.makedirs(param['hpx_cats_clean_path'], exist_ok=True)\n",
    "ipix_cats = split_files(mockcat, 'ra', 'dec',\n",
    "                        param['nside_ini'], param['hpx_cats_path'])\n"
   ]
  },
  {
   "cell_type": "markdown",
   "metadata": {},
   "source": [
    "## Removing stars in crowded fields\n",
    "\n",
    "In large surveys, usually objects very close to each other are blended into a single object. In principle, the software used to detect sources is SExtractor, which parameter deblend is set to blend sources very close to each other.\n",
    "\n",
    "In order to reproduce this observational bias, cells below remove both stars if they are closer than an specific distance.\n",
    "\n",
    "To do that, the approach below (or the function on that) read catalogs from ipixels (HealPixels).\n",
    "To each star the distance to all sources are calculated. If the second minimum distance (the first one is zero, since it is the iteration of the stars with itself) is less than the distance defined as a parameter of the function, the star is not listed in the filtered catalog.\n",
    "The function runs in parallel, in order to run faster using all the cores of node.\n",
    "\n",
    "Firstly, setting the string to read position of stars. After filtering stars in HealPixels, join all the HP into a single catalog called final cat."
   ]
  },
  {
   "cell_type": "code",
   "execution_count": null,
   "metadata": {},
   "outputs": [],
   "source": [
    "@python_app\n",
    "def clean_input_cat_dist_app(dir_name, file_name, ra_str, dec_str, min_dist_arcsec):\n",
    "\n",
    "    clean_input_cat_dist(\n",
    "        dir_name,\n",
    "        file_name,\n",
    "        ra_str,\n",
    "        dec_str,\n",
    "        min_dist_arcsec\n",
    "    )\n",
    "\n",
    "\n",
    "futures = list()\n",
    "\n",
    "# Creating a progreebar\n",
    "with tqdm(total=len(ipix_cats), file=sys.stdout) as pbar:\n",
    "    pbar.set_description(\"Submit Parsls Tasks\")\n",
    "\n",
    "    for i in ipix_cats:\n",
    "        futures.append(\n",
    "            clean_input_cat_dist_app(\n",
    "                param['hpx_cats_clean_path'], i, param['ra_str'], param['dec_str'], param['min_dist_arcsec'])\n",
    "        )\n",
    "\n",
    "        pbar.update()\n",
    "\n",
    "print(\"Tasks Done:\")\n",
    "with tqdm(total=len(futures), file=sys.stdout) as pbar2:\n",
    "    # is_done é um array contendo True ou False para cada task\n",
    "    # is_done.count(True) retorna a quantidade de tasks que já terminaram.\n",
    "    is_done = list()\n",
    "    done_count = 0\n",
    "    while is_done.count(True) != len(futures):\n",
    "        is_done = list()\n",
    "        for f in futures:\n",
    "            is_done.append(f.done())\n",
    "\n",
    "        # Só atualiza a pbar se o valor for diferente.\n",
    "        if is_done.count(True) != done_count:\n",
    "            done_count = is_done.count(True)\n",
    "            # Reset é necessário por que a quantidade de iterações\n",
    "            # é maior que a quantidade de jobs.\n",
    "            pbar2.reset(total=len(futures))\n",
    "            # Atualiza a pbar\n",
    "            pbar2.update(done_count)\n",
    "\n",
    "        if done_count < len(futures):\n",
    "            sleep(3)\n"
   ]
  },
  {
   "cell_type": "code",
   "execution_count": null,
   "metadata": {},
   "outputs": [],
   "source": [
    "ipix_clean_cats = [i.replace(param['hpx_cats_path'], param['hpx_cats_clean_path']) for i in ipix_cats]\n",
    "\n",
    "join_cats_clean(ipix_clean_cats,\n",
    "                param['final_cat'], param['ra_str'], param['dec_str'])\n"
   ]
  },
  {
   "cell_type": "code",
   "execution_count": null,
   "metadata": {},
   "outputs": [],
   "source": [
    "sim_clus_feat = write_sim_clus_features(\n",
    "    mockcat, param['final_cat'], hp_sample_un, param['nside_ini'], mM, output_path=param['results_path'])\n"
   ]
  },
  {
   "cell_type": "code",
   "execution_count": null,
   "metadata": {},
   "outputs": [],
   "source": [
    "clus_file_results(param['results_path'], \"star_clusters_simulated.dat\",\n",
    "                  sim_clus_feat, 'results/objects.dat')\n"
   ]
  },
  {
   "cell_type": "markdown",
   "metadata": {},
   "source": [
    "## Plots\n",
    "\n",
    "A few plots to characterize the simulated clusters."
   ]
  },
  {
   "cell_type": "code",
   "execution_count": null,
   "metadata": {},
   "outputs": [],
   "source": [
    "from ga_sim.plot import (\n",
    "    general_plots,\n",
    "    plot_ftp,\n",
    "    plots_ang_size,\n",
    "    plots_ref,\n",
    "    plot_err,\n",
    "    plot_clusters_clean\n",
    ")\n",
    "\n",
    "import tabulate"
   ]
  },
  {
   "cell_type": "markdown",
   "metadata": {},
   "source": [
    "The cell below show the complete table of the simulated clusters produced. An improved description of columns is provided:\n",
    "<br>\n",
    "0-HPX64: Ipix where the cluster is centered (Nested=True, Nside=64);\n",
    "<br>\n",
    "1-N: Star counts in cluster (before filtering stars from crowding);\n",
    "<br>\n",
    "2-MV: Absolute magnitude in V band (before filtering stars from crowding);\n",
    "<br>\n",
    "3-SNR: Poissonian Signal to Noise Ratio of the cluster. This is estimated by star counts within 2 arcmin over\n",
    "<br>\n",
    "root square of star counts within an annulus of rin=10 arcmin and rout = 25 arcmin, normalized\n",
    "<br>\n",
    "by area. This is calculated before filtering stars from crowding;\n",
    "<br>\n",
    "4-N_f: Star counts of filtering in stars by crowding;\n",
    "<br>\n",
    "5-MV_f: Absolute magnitude in V band after removing stars by crowding;\n",
    "<br>\n",
    "6-SNR_f: Signal to Noise Ratio calculated as described in (3) but after removing stars from crowding;\n",
    "<br>\n",
    "7-L: Galactic longitude (l), in degrees;\n",
    "<br>\n",
    "8-B: Galactic latitude (b), in degrees;\n",
    "<br>\n",
    "9-ra: Right Ascension (Equatorial coordinate), in degrees;\n",
    "<br>\n",
    "10-dec: Declination (Equatorial coordinate), in degrees;\n",
    "<br>\n",
    "11-r_exp: Exponential radius of cluster, in parsecs;\n",
    "<br>\n",
    "12-ell: Ellipticity (a - b) / a;\n",
    "<br>\n",
    "13-pa: Angular position (from North to East), in degrees;\n",
    "<br>\n",
    "14-mass: Visible mass of cluster (star accounted for mass are stars brighter than the limiting magnitude\n",
    "<br>\n",
    "of the simulation), in Solar masses;\n",
    "<br>\n",
    "15-dist: distance of the simulated cluster from Sun, in parsecs;"
   ]
  },
  {
   "cell_type": "code",
   "execution_count": null,
   "metadata": {},
   "outputs": [],
   "source": [
    "with open(param['star_clusters_simulated']) as f:\n",
    "    first_line = f.readline()\n",
    "\n",
    "table = tabulate.tabulate(np.loadtxt(param['star_clusters_simulated']), tablefmt='html', headers=(first_line[1:].split()))\n",
    "table"
   ]
  },
  {
   "cell_type": "markdown",
   "metadata": {},
   "source": [
    "Plot footprint map to check area."
   ]
  },
  {
   "cell_type": "code",
   "execution_count": null,
   "metadata": {},
   "outputs": [],
   "source": [
    "general_plots(param['star_clusters_simulated'], param['output_plots'])"
   ]
  },
  {
   "cell_type": "code",
   "execution_count": null,
   "metadata": {},
   "outputs": [],
   "source": [
    "# Diretório onde estão os arquivo _clus.dat\n",
    "plots_ang_size(param['star_clusters_simulated'], param['results_path'],\n",
    "               param['mmin'], param['mmax'], param['cmin'], param['cmax'],\n",
    "               param['output_plots'])\n"
   ]
  },
  {
   "cell_type": "code",
   "execution_count": null,
   "metadata": {},
   "outputs": [],
   "source": [
    "hpx_ftp = param['results_path'] + \"/ftp_4096_nest.fits\"\n",
    "\n",
    "plot_ftp(hpx_ftp, param['star_clusters_simulated'],\n",
    "         param['final_cat'], param['ra_max'], param['ra_min'], param['dec_min'], param['dec_max'], param['output_plots'])\n"
   ]
  },
  {
   "cell_type": "code",
   "execution_count": null,
   "metadata": {},
   "outputs": [],
   "source": [
    "plots_ref(FeH_iso, param['output_plots'], param['star_clusters_simulated'])\n"
   ]
  },
  {
   "cell_type": "markdown",
   "metadata": {},
   "source": [
    "Plotting errors in main magnitude band."
   ]
  },
  {
   "cell_type": "code",
   "execution_count": null,
   "metadata": {},
   "outputs": [],
   "source": [
    "# Plots to analyze the simulated clusters.\n",
    "plot_err(mockcat, param['output_plots'])\n"
   ]
  },
  {
   "cell_type": "markdown",
   "metadata": {},
   "source": [
    "Plot position of stars in clusters comparing filtered in and not filtered stars. The region sampled is the center of the cluster where the crowding is more intense."
   ]
  },
  {
   "cell_type": "code",
   "execution_count": null,
   "metadata": {},
   "outputs": [],
   "source": [
    "plot_clusters_clean(ipix_cats, ipix_clean_cats,\n",
    "                    param['nside_ini'], param['ra_str'], param['dec_str'], 0.01, param['output_plots'])\n"
   ]
  },
  {
   "cell_type": "markdown",
   "metadata": {},
   "source": [
    "The images below are the plots comparing simulations and real clusters."
   ]
  },
  {
   "cell_type": "code",
   "execution_count": null,
   "metadata": {},
   "outputs": [],
   "source": [
    "export_results('../public_html/gawa_processes/')"
   ]
  },
  {
   "cell_type": "code",
   "execution_count": null,
   "metadata": {},
   "outputs": [],
   "source": []
  }
 ],
 "metadata": {
  "kernelspec": {
   "display_name": "ga_sim",
   "language": "python",
   "name": "ga_sim"
  },
  "language_info": {
   "codemirror_mode": {
    "name": "ipython",
    "version": 3
   },
   "file_extension": ".py",
   "mimetype": "text/x-python",
   "name": "python",
   "nbconvert_exporter": "python",
   "pygments_lexer": "ipython3",
   "version": "3.8.13"
  }
 },
 "nbformat": 4,
 "nbformat_minor": 4
}
